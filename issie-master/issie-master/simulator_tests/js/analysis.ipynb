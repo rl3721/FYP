{
 "cells": [
  {
   "attachments": {},
   "cell_type": "markdown",
   "metadata": {},
   "source": [
    "Benchmark result can be obtained by the following command\n",
    "\n",
    "```bash\n",
    "bash runTests.sh Path-to-Testcases\n",
    "```"
   ]
  },
  {
   "cell_type": "code",
   "execution_count": 1,
   "metadata": {},
   "outputs": [],
   "source": [
    "import os.path\n",
    "import pandas as pd\n",
    "import matplotlib.pyplot as plt"
   ]
  },
  {
   "cell_type": "code",
   "execution_count": 2,
   "metadata": {},
   "outputs": [],
   "source": [
    "geometric_mean = lambda x: (x.prod())**(1.0/len(x))"
   ]
  },
  {
   "attachments": {},
   "cell_type": "markdown",
   "metadata": {},
   "source": [
    "#### Baseline "
   ]
  },
  {
   "cell_type": "code",
   "execution_count": 3,
   "metadata": {},
   "outputs": [
    {
     "name": "stdout",
     "output_type": "stream",
     "text": [
      "Simulation speed is 3125.994133085377 (Component * Step / Millisecond)\n"
     ]
    }
   ],
   "source": [
    "speed_baseline = pd.read_csv(\"baseline_2E4.csv\", usecols=[6])[:].values\n",
    "speed_baseline_gm = geometric_mean(speed_baseline)\n",
    "print(f\"Simulation speed is {speed_baseline_gm} (Component * Step / Millisecond)\")"
   ]
  },
  {
   "attachments": {},
   "cell_type": "markdown",
   "metadata": {},
   "source": [
    "#### Optimized versions"
   ]
  },
  {
   "attachments": {},
   "cell_type": "markdown",
   "metadata": {},
   "source": [
    "##### Version 1"
   ]
  },
  {
   "attachments": {},
   "cell_type": "markdown",
   "metadata": {},
   "source": [
    " - Update Outputs and InputLinks of FastComponent to include bath FData arrays and FastData arrays\n",
    " - Create FastData only version of fastReduce for stepSimulation\n",
    " - Keep old FData based fastReduce for TruthTable"
   ]
  },
  {
   "cell_type": "code",
   "execution_count": 4,
   "metadata": {},
   "outputs": [
    {
     "name": "stdout",
     "output_type": "stream",
     "text": [
      "Simulation speed is 16684.48078514532 (Component * Step / Millisecond)\n",
      "x5.337335924132917 speed up from baseline\n"
     ]
    }
   ],
   "source": [
    "v1 = \"version1.csv\"\n",
    "if os.path.isfile(v1):\n",
    "    speed_v1 = pd.read_csv(v1, usecols=[6])[:].values\n",
    "    speed_v1_gm = geometric_mean(speed_v1)\n",
    "    v1_speed_up = speed_v1_gm / speed_baseline_gm\n",
    "    print(f\"Simulation speed is {speed_v1_gm} (Component * Step / Millisecond)\")\n",
    "    print(f\"x{v1_speed_up} speed up from baseline\")"
   ]
  },
  {
   "attachments": {},
   "cell_type": "markdown",
   "metadata": {},
   "source": [
    "##### Version 2"
   ]
  },
  {
   "cell_type": "code",
   "execution_count": 5,
   "metadata": {},
   "outputs": [
    {
     "name": "stdout",
     "output_type": "stream",
     "text": [
      "Simulation speed is 14876.711260906784 (Component * Step / Millisecond)\n",
      "x4.7590336473931165 speed up from baseline\n"
     ]
    },
    {
     "ename": "",
     "evalue": "",
     "output_type": "error",
     "traceback": [
      "\u001b[1;31mThe Kernel crashed while executing code in the the current cell or a previous cell. Please review the code in the cell(s) to identify a possible cause of the failure. Click <a href='https://aka.ms/vscodeJupyterKernelCrash'>here</a> for more info. View Jupyter <a href='command:jupyter.viewOutput'>log</a> for further details."
     ]
    }
   ],
   "source": [
    "v2 = \"version2_2E4.csv\"\n",
    "if os.path.isfile(v2):\n",
    "    speed_v2 = pd.read_csv(v2, usecols=[6])[:].values\n",
    "    speed_v2_gm = geometric_mean(speed_v2)\n",
    "    v2_speed_up = speed_v2_gm / speed_baseline_gm\n",
    "    print(f\"Simulation speed is {speed_v2_gm} (Component * Step / Millisecond)\")\n",
    "    print(f\"x{v2_speed_up} speed up from baseline\")"
   ]
  }
 ],
 "metadata": {
  "kernelspec": {
   "display_name": "Python 3",
   "language": "python",
   "name": "python3"
  },
  "language_info": {
   "codemirror_mode": {
    "name": "ipython",
    "version": 3
   },
   "file_extension": ".py",
   "mimetype": "text/x-python",
   "name": "python",
   "nbconvert_exporter": "python",
   "pygments_lexer": "ipython3",
   "version": "3.10.10"
  },
  "orig_nbformat": 4
 },
 "nbformat": 4,
 "nbformat_minor": 2
}
